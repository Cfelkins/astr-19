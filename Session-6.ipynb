{
 "cells": [
  {
   "cell_type": "markdown",
   "id": "4a74873b-e676-4c8e-bcab-bedf5b7aca38",
   "metadata": {},
   "source": [
    "Import numpy and define a sin function"
   ]
  },
  {
   "cell_type": "code",
   "execution_count": 28,
   "id": "b2381b4b-7caf-4c25-864e-79fc7fe08ba5",
   "metadata": {},
   "outputs": [],
   "source": [
    "import numpy as np\n",
    "def s(x):\n",
    "    return s == np.sin(x, dtype=float)"
   ]
  },
  {
   "cell_type": "markdown",
   "id": "6d3a6526-f461-4d07-9edb-cbd384a9bc34",
   "metadata": {},
   "source": [
    "define a cos(x) function"
   ]
  },
  {
   "cell_type": "code",
   "execution_count": 29,
   "id": "0126a0e3-9ec2-4267-8231-5c094550f4a0",
   "metadata": {},
   "outputs": [],
   "source": [
    "def c(x):\n",
    "    return c == np.cos(x, dtype=float)"
   ]
  },
  {
   "cell_type": "markdown",
   "id": "b77251d0-809d-4613-8a5e-5cee8a2cbaa1",
   "metadata": {},
   "source": [
    "tabulate x between 0 and 2pi with 1000 x values"
   ]
  },
  {
   "cell_type": "code",
   "execution_count": 33,
   "id": "f57c6c8a-5d3c-4654-b16d-a721ef33daf7",
   "metadata": {},
   "outputs": [],
   "source": [
    "x = np.linspace(0, 2*np.pi, 1000)"
   ]
  },
  {
   "cell_type": "markdown",
   "id": "20c66b10-a535-487b-85fd-0078bdbc8bb5",
   "metadata": {},
   "source": [
    "print the first 10 values of x, sin and cos.\n",
    "\n",
    "I could not figure out how to define the sin and cos functions in a way that wouldn't print an array of [False] values, so I just typed the fuction here to make it work. "
   ]
  },
  {
   "cell_type": "code",
   "execution_count": 32,
   "id": "e56a05d7-87b8-489b-aea2-f66f522e3f27",
   "metadata": {},
   "outputs": [
    {
     "name": "stdout",
     "output_type": "stream",
     "text": [
      "0.0 [0.] [1.]\n",
      "0.006289474781961547 [0.84147098] [0.54030231]\n",
      "0.012578949563923095 [0.90929743] [-0.41614684]\n",
      "0.018868424345884642 [0.14112001] [-0.9899925]\n",
      "0.02515789912784619 [-0.7568025] [-0.65364362]\n",
      "0.03144737390980774 [-0.95892427] [0.28366219]\n",
      "0.037736848691769284 [-0.2794155] [0.96017029]\n",
      "0.04402632347373083 [0.6569866] [0.75390225]\n",
      "0.05031579825569238 [0.98935825] [-0.14550003]\n",
      "0.056605273037653926 [0.41211849] [-0.91113026]\n"
     ]
    }
   ],
   "source": [
    "n = 10\n",
    "for i in range(n):\n",
    "    print(x[i], np.sin([i]) , np.cos([i]))\n",
    "    "
   ]
  },
  {
   "cell_type": "code",
   "execution_count": null,
   "id": "3e29cc92-9544-42df-bf75-1048e312b64a",
   "metadata": {},
   "outputs": [],
   "source": []
  }
 ],
 "metadata": {
  "kernelspec": {
   "display_name": "ASTR 19",
   "language": "python",
   "name": "astr19"
  },
  "language_info": {
   "codemirror_mode": {
    "name": "ipython",
    "version": 3
   },
   "file_extension": ".py",
   "mimetype": "text/x-python",
   "name": "python",
   "nbconvert_exporter": "python",
   "pygments_lexer": "ipython3",
   "version": "3.10.12"
  }
 },
 "nbformat": 4,
 "nbformat_minor": 5
}
